{
 "cells": [
  {
   "cell_type": "code",
   "execution_count": 1,
   "id": "c738aa75",
   "metadata": {},
   "outputs": [],
   "source": [
    "from astropy.io import fits\n",
    "import pandas as pd\n",
    "from flask import Blueprint, jsonify\n",
    "import os"
   ]
  },
  {
   "cell_type": "code",
   "execution_count": 2,
   "id": "c56f1f39",
   "metadata": {},
   "outputs": [],
   "source": [
    "from flask import Flask\n",
    "from flask_mail import Mail, Message\n",
    "\n",
    "# Create Flask app instance\n",
    "app = Flask(__name__)\n",
    "\n",
    "# Configure Flask-Mail\n",
    "app.config['MAIL_SERVER'] = 'smtp.gmail.com'\n",
    "app.config['MAIL_PORT'] = 587\n",
    "app.config['MAIL_USE_TLS'] = True\n",
    "app.config['MAIL_USERNAME'] = '7dt.observation.broker@gmail.com'  # Replace with your email\n",
    "app.config['MAIL_PASSWORD'] = 'cqarlzcofgrsgdlh'  # Use app password for Gmail\n",
    "app.config['MAIL_DEFAULT_SENDER'] = ('7DT Observation Alert', 'your-email@gmail.com')  # Display name and sender\n",
    "\n",
    "# Initialize Flask-Mail\n",
    "mail = Mail()"
   ]
  },
  {
   "cell_type": "code",
   "execution_count": 3,
   "id": "1e5e7c00",
   "metadata": {},
   "outputs": [
    {
     "data": {
      "text/plain": [
       "<flask_mail._Mail at 0x12146fca0>"
      ]
     },
     "execution_count": 3,
     "metadata": {},
     "output_type": "execute_result"
    }
   ],
   "source": [
    "mail.init_app(app)"
   ]
  },
  {
   "cell_type": "code",
   "execution_count": 4,
   "id": "588e9822",
   "metadata": {},
   "outputs": [],
   "source": [
    "def send_test_email():\n",
    "    with app.app_context():\n",
    "        try:\n",
    "            # Construct the email\n",
    "            msg = Message(\n",
    "                subject=\"Test Email from Flask-Mail\",\n",
    "                recipients=[\"takdg123@gmail.com\"],  # Recipient email\n",
    "                body=\"This is a test email sent from Flask-Mail in Jupyter Notebook.\"\n",
    "            )\n",
    "            mail.send(msg)\n",
    "            print(\"Email sent successfully!\")\n",
    "        except Exception as e:\n",
    "            print(f\"Failed to send email: {e}\")"
   ]
  },
  {
   "cell_type": "code",
   "execution_count": 5,
   "id": "4e42a299",
   "metadata": {},
   "outputs": [
    {
     "name": "stdout",
     "output_type": "stream",
     "text": [
      "Email sent successfully!\n"
     ]
    }
   ],
   "source": [
    "send_test_email()"
   ]
  },
  {
   "cell_type": "code",
   "execution_count": null,
   "id": "f97f4d0c",
   "metadata": {},
   "outputs": [],
   "source": []
  },
  {
   "cell_type": "code",
   "execution_count": null,
   "id": "54920eb6",
   "metadata": {},
   "outputs": [],
   "source": []
  },
  {
   "cell_type": "code",
   "execution_count": null,
   "id": "a42c2506",
   "metadata": {},
   "outputs": [],
   "source": []
  },
  {
   "cell_type": "code",
   "execution_count": 1,
   "id": "656d302f",
   "metadata": {},
   "outputs": [],
   "source": [
    "import matplotlib.pyplot as plt"
   ]
  },
  {
   "cell_type": "code",
   "execution_count": 2,
   "id": "062b668a",
   "metadata": {},
   "outputs": [],
   "source": [
    "import json"
   ]
  },
  {
   "cell_type": "code",
   "execution_count": 43,
   "id": "345c75a8",
   "metadata": {},
   "outputs": [
    {
     "data": {
      "text/plain": [
       "([], [])"
      ]
     },
     "execution_count": 43,
     "metadata": {},
     "output_type": "execute_result"
    },
    {
     "data": {
      "image/png": "[encoded data removed]",
      "text/plain": [
       "<Figure size 700x50 with 1 Axes>"
      ]
     },
     "metadata": {},
     "output_type": "display_data"
    }
   ],
   "source": [
    "f = open(\"./data/specall.specmode\", 'r')\n",
    "\n",
    "spec = json.load(f)\n",
    "\n",
    "unique_list = list(set(item for sublist in spec.values() for item in sublist))\n",
    "wavelengths = [float(item[1:]) for item in unique_list if 'm' in item]\n",
    "wavelengths.sort()\n",
    "filters = [item for item in unique_list if 'm' not in item]\n",
    "\n",
    "f = plt.figure(figsize=(7, 0.5))\n",
    "for wav in wavelengths:\n",
    "    plt.axvspan((wav-12.5)*10, (wav+12.5)*10)\n",
    "plt.yticks([])"
   ]
  },
  {
   "cell_type": "code",
   "execution_count": 44,
   "id": "495ab573",
   "metadata": {},
   "outputs": [
    {
     "data": {
      "text/plain": [
       "['r', 'g']"
      ]
     },
     "execution_count": 44,
     "metadata": {},
     "output_type": "execute_result"
    }
   ],
   "source": [
    "filters"
   ]
  },
  {
   "cell_type": "code",
   "execution_count": 23,
   "id": "19d578da",
   "metadata": {},
   "outputs": [
    {
     "data": {
      "text/plain": [
       "[400.0,\n",
       " 425.0,\n",
       " 450.0,\n",
       " 475.0,\n",
       " 500.0,\n",
       " 525.0,\n",
       " 550.0,\n",
       " 575.0,\n",
       " 600.0,\n",
       " 625.0,\n",
       " 650.0,\n",
       " 675.0,\n",
       " 700.0,\n",
       " 725.0,\n",
       " 750.0,\n",
       " 775.0,\n",
       " 800.0,\n",
       " 825.0,\n",
       " 850.0,\n",
       " 875.0]"
      ]
     },
     "execution_count": 23,
     "metadata": {},
     "output_type": "execute_result"
    }
   ],
   "source": [
    "wavelengths"
   ]
  },
  {
   "cell_type": "code",
   "execution_count": null,
   "id": "5fb1ceaa",
   "metadata": {},
   "outputs": [],
   "source": []
  }
 ],
 "metadata": {
  "kernelspec": {
   "display_name": "Python 3 (ipykernel)",
   "language": "python",
   "name": "python3"
  },
  "language_info": {
   "codemirror_mode": {
    "name": "ipython",
    "version": 3
   },
   "file_extension": ".py",
   "mimetype": "text/x-python",
   "name": "python",
   "nbconvert_exporter": "python",
   "pygments_lexer": "ipython3",
   "version": "3.9.13"
  }
 },
 "nbformat": 4,
 "nbformat_minor": 5
}
