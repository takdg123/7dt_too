{
 "cells": [
  {
   "cell_type": "code",
   "execution_count": 3,
   "id": "9bd39cc3",
   "metadata": {},
   "outputs": [],
   "source": [
    "from gcn_kafka import Consumer\n",
    "import json\n",
    "import time\n",
    "from confluent_kafka import TopicPartition"
   ]
  },
  {
   "cell_type": "code",
   "execution_count": 11,
   "id": "509b6700",
   "metadata": {},
   "outputs": [],
   "source": [
    "# Set up GCN Kafka consumer\n",
    "consumer = Consumer(\n",
    "    client_id='41g4n7kfqmckfdf2t1qkf88ika',\n",
    "    client_secret='1bv9d4k1ldb3aggs8e1qpcfk472bdl49f27q1ntcrcbld3cft5qh',\n",
    ")\n"
   ]
  },
  {
   "cell_type": "code",
   "execution_count": 12,
   "id": "d1dcd8fe",
   "metadata": {},
   "outputs": [],
   "source": [
    "consumer.subscribe(['gcn.classic.text.AGILE_GRB_GROUND',\n",
    "                    'gcn.classic.text.AGILE_GRB_POS_TEST',\n",
    "                    'gcn.classic.text.AGILE_GRB_REFINED',\n",
    "                    'gcn.classic.text.AGILE_GRB_WAKEUP',\n",
    "                    'gcn.classic.text.AGILE_MCAL_ALERT',\n",
    "                    'gcn.classic.text.AGILE_POINTDIR',\n",
    "                    'gcn.classic.text.AGILE_TRANS',\n",
    "                    'gcn.classic.text.AMON_ICECUBE_COINC',\n",
    "                    'gcn.classic.text.AMON_ICECUBE_EHE',\n",
    "                    'gcn.classic.text.AMON_ICECUBE_HESE',\n",
    "                    'gcn.classic.text.AMON_NU_EM_COINC',\n",
    "                    'gcn.classic.text.CALET_GBM_FLT_LC',\n",
    "                    'gcn.classic.text.CALET_GBM_GND_LC',\n",
    "                    'gcn.classic.text.FERMI_GBM_ALERT',\n",
    "                    'gcn.classic.text.FERMI_GBM_FIN_POS',\n",
    "                    'gcn.classic.text.FERMI_GBM_FLT_POS',\n",
    "                    'gcn.classic.text.FERMI_GBM_GND_POS',\n",
    "                    'gcn.classic.text.FERMI_GBM_LC',\n",
    "                    'gcn.classic.text.FERMI_GBM_POS_TEST',\n",
    "                    'gcn.classic.text.FERMI_GBM_SUBTHRESH',\n",
    "                    'gcn.classic.text.FERMI_GBM_TRANS',\n",
    "                    'gcn.classic.text.FERMI_LAT_GND',\n",
    "                    'gcn.classic.text.FERMI_LAT_MONITOR',\n",
    "                    'gcn.classic.text.FERMI_LAT_OFFLINE',\n",
    "                    'gcn.classic.text.FERMI_LAT_POS_DIAG',\n",
    "                    'gcn.classic.text.FERMI_LAT_POS_INI',\n",
    "                    'gcn.classic.text.FERMI_LAT_POS_TEST',\n",
    "                    'gcn.classic.text.FERMI_LAT_POS_UPD',\n",
    "                    'gcn.classic.text.FERMI_LAT_TRANS',\n",
    "                    'gcn.classic.text.FERMI_POINTDIR',\n",
    "                    'gcn.classic.text.FERMI_SC_SLEW',\n",
    "                    'gcn.classic.text.GECAM_FLT',\n",
    "                    'gcn.classic.text.GECAM_GND',\n",
    "                    'gcn.classic.text.ICECUBE_ASTROTRACK_BRONZE',\n",
    "                    'gcn.classic.text.ICECUBE_ASTROTRACK_GOLD',\n",
    "                    'gcn.classic.text.ICECUBE_CASCADE',\n",
    "                    'gcn.classic.text.INTEGRAL_OFFLINE',\n",
    "                    'gcn.classic.text.INTEGRAL_POINTDIR',\n",
    "                    'gcn.classic.text.INTEGRAL_REFINED',\n",
    "                    'gcn.classic.text.INTEGRAL_SPIACS',\n",
    "                    'gcn.classic.text.INTEGRAL_WAKEUP',\n",
    "                    'gcn.classic.text.INTEGRAL_WEAK',\n",
    "                    'gcn.classic.text.IPN_POS',\n",
    "                    'gcn.classic.text.IPN_RAW',\n",
    "                    'gcn.classic.text.IPN_SEG',\n",
    "                    'gcn.classic.text.LVC_COUNTERPART',\n",
    "                    'gcn.classic.text.LVC_EARLY_WARNING',\n",
    "                    'gcn.classic.text.LVC_INITIAL',\n",
    "                    'gcn.classic.text.LVC_PRELIMINARY',\n",
    "                    'gcn.classic.text.LVC_RETRACTION',\n",
    "                    'gcn.classic.text.LVC_TEST',\n",
    "                    'gcn.classic.text.LVC_UPDATE',\n",
    "                    'gcn.classic.text.MAXI_KNOWN',\n",
    "                    'gcn.classic.text.MAXI_TEST',\n",
    "                    'gcn.classic.text.MAXI_UNKNOWN',\n",
    "                    'gcn.classic.text.SWIFT_ACTUAL_POINTDIR',\n",
    "                    'gcn.classic.text.SWIFT_BAT_ALARM_LONG',\n",
    "                    'gcn.classic.text.SWIFT_BAT_ALARM_SHORT',\n",
    "                    'gcn.classic.text.SWIFT_BAT_GRB_ALERT',\n",
    "                    'gcn.classic.text.SWIFT_BAT_GRB_LC',\n",
    "                    'gcn.classic.text.SWIFT_BAT_GRB_LC_PROC',\n",
    "                    'gcn.classic.text.SWIFT_BAT_GRB_POS_ACK',\n",
    "                    'gcn.classic.text.SWIFT_BAT_GRB_POS_NACK',\n",
    "                    'gcn.classic.text.SWIFT_BAT_GRB_POS_TEST',\n",
    "                    'gcn.classic.text.SWIFT_BAT_KNOWN_SRC',\n",
    "                    'gcn.classic.text.SWIFT_BAT_MONITOR',\n",
    "                    'gcn.classic.text.SWIFT_BAT_QL_POS',\n",
    "                    'gcn.classic.text.SWIFT_BAT_SCALEDMAP',\n",
    "                    'gcn.classic.text.SWIFT_BAT_SLEW_POS',\n",
    "                    'gcn.classic.text.SWIFT_BAT_SUB_THRESHOLD',\n",
    "                    'gcn.classic.text.SWIFT_BAT_SUBSUB',\n",
    "                    'gcn.classic.text.SWIFT_BAT_TRANS',\n",
    "                    'gcn.classic.text.SWIFT_FOM_OBS',\n",
    "                    'gcn.classic.text.SWIFT_FOM_PPT_ARG_ERR',\n",
    "                    'gcn.classic.text.SWIFT_FOM_SAFE_POINT',\n",
    "                    'gcn.classic.text.SWIFT_FOM_SLEW_ABORT',\n",
    "                    'gcn.classic.text.SWIFT_POINTDIR',\n",
    "                    'gcn.classic.text.SWIFT_SC_SLEW',\n",
    "                    'gcn.classic.text.SWIFT_TOO_FOM',\n",
    "                    'gcn.classic.text.SWIFT_TOO_SC_SLEW',\n",
    "                    'gcn.classic.text.SWIFT_UVOT_DBURST',\n",
    "                    'gcn.classic.text.SWIFT_UVOT_DBURST_PROC',\n",
    "                    'gcn.classic.text.SWIFT_UVOT_EMERGENCY',\n",
    "                    'gcn.classic.text.SWIFT_UVOT_FCHART',\n",
    "                    'gcn.classic.text.SWIFT_UVOT_FCHART_PROC',\n",
    "                    'gcn.classic.text.SWIFT_UVOT_POS',\n",
    "                    'gcn.classic.text.SWIFT_UVOT_POS_NACK',\n",
    "                    'gcn.classic.text.SWIFT_XRT_CENTROID',\n",
    "                    'gcn.classic.text.SWIFT_XRT_EMERGENCY',\n",
    "                    'gcn.classic.text.SWIFT_XRT_IMAGE',\n",
    "                    'gcn.classic.text.SWIFT_XRT_IMAGE_PROC',\n",
    "                    'gcn.classic.text.SWIFT_XRT_LC',\n",
    "                    'gcn.classic.text.SWIFT_XRT_POSITION',\n",
    "                    'gcn.classic.text.SWIFT_XRT_SPECTRUM',\n",
    "                    'gcn.classic.text.SWIFT_XRT_SPECTRUM_PROC',\n",
    "                    'gcn.classic.text.SWIFT_XRT_SPER',\n",
    "                    'gcn.classic.text.SWIFT_XRT_SPER_PROC',\n",
    "                    'gcn.classic.text.SWIFT_XRT_THRESHPIX',\n",
    "                    'gcn.classic.text.SWIFT_XRT_THRESHPIX_PROC',\n",
    "                    'gcn.classic.text.AAVSO',\n",
    "                    'gcn.classic.text.ALEXIS_SRC',\n",
    "                    'gcn.classic.text.BRAD_COORDS',\n",
    "                    'gcn.classic.text.CBAT',\n",
    "                    'gcn.classic.text.COINCIDENCE',\n",
    "                    'gcn.classic.text.COMPTEL_SRC',\n",
    "                    'gcn.classic.text.DOW_TOD',\n",
    "                    'gcn.classic.text.GRB_CNTRPART',\n",
    "                    'gcn.classic.text.GRB_COORDS',\n",
    "                    'gcn.classic.text.GRB_FINAL',\n",
    "                    'gcn.classic.text.GWHEN_COINC',\n",
    "                    'gcn.classic.text.HAWC_BURST_MONITOR',\n",
    "                    'gcn.classic.text.HUNTS_SRC',\n",
    "                    'gcn.classic.text.KONUS_LC',\n",
    "                    'gcn.classic.text.MAXBC',\n",
    "                    'gcn.classic.text.MILAGRO_POS',\n",
    "                    'gcn.classic.text.MOA',\n",
    "                    'gcn.classic.text.OGLE',\n",
    "                    'gcn.classic.text.SIMBADNED',\n",
    "                    'gcn.classic.text.SK_SN',\n",
    "                    'gcn.classic.text.SNEWS',\n",
    "                    'gcn.classic.text.SUZAKU_LC',\n",
    "                    'gcn.classic.text.TEST_COORDS'])"
   ]
  },
  {
   "cell_type": "code",
   "execution_count": null,
   "id": "1859023c",
   "metadata": {},
   "outputs": [
    {
     "name": "stdout",
     "output_type": "stream",
     "text": [
      "b'<?xml version = \\'1.0\\' encoding = \\'UTF-8\\'?>\\n<voe:VOEvent\\n      ivorn=\"ivo://nasa.gsfc.gcn/INTEGRAL#SPIACS_000000-0-008\"\\n      role=\"test\" version=\"2.0\"\\n      xmlns:voe=\"http://www.ivoa.net/xml/VOEvent/v2.0\"\\n      xmlns:xsi=\"http://www.w3.org/2001/XMLSchema-instance\"\\n      xsi:schemaLocation=\"http://www.ivoa.net/xml/VOEvent/v2.0  http://www.ivoa.net/xml/VOEvent/VOEvent-v2.0.xsd\" >\\n  <Who>\\n    <AuthorIVORN>ivo://nasa.gsfc.tan/gcn</AuthorIVORN>\\n    <Author>\\n      <shortName>INTEGRAL (via VO-GCN)</shortName>\\n      <contactName>S. Mereghetti</contactName>\\n      <contactPhone>+39 223699323</contactPhone>\\n      <contactEmail>sandro@iasf-milano.inaf.it</contactEmail>\\n    </Author>\\n    <Date>2024-12-17T13:00:03</Date>\\n    <Description>This VOEvent message was created with GCN VOE version: 15.08 17jun22</Description>\\n  </Who>\\n  <What>\\n    <Param name=\"Packet_Type\"   value=\"52\" />\\n    <Param name=\"Pkt_Ser_Num\"   value=\"5749\" />\\n    <Param name=\"TrigID\"        value=\"0\" ucd=\"meta.id\" />\\n    <Param name=\"Burst_TJD\"     value=\"20453\" unit=\"days\" ucd=\"time\" />\\n    <Param name=\"Burst_SOD\"     value=\"43403.68\" unit=\"sec\" ucd=\"time\" />\\n    <Param name=\"Inten_Sigma\"   value=\"11.34\" unit=\"sigma\" ucd=\"stat.snr\" />\\n    <Param name=\"Time_Error\"    value=\"0.5300\" unit=\"sec\" ucd=\"time\" />\\n    <Param name=\"Time_Scale\"    value=\"0.5000\" unit=\"sec\" ucd=\"time\" />\\n    <Param name=\"Coords_Type\"   value=\"0\" unit=\"dn\" />\\n    <Param name=\"Coords_String\" value=\"unavailable/inappropriate\" />\\n    <Param name=\"Det_flags\"     value=\"0xca\" />\\n    <Param name=\"Test_mpos\"     value=\"0x80000000\" />\\n    <Param name=\"Misc_att\"      value=\"0x0\" />\\n    <Group name=\"Test_mpos\" >\\n      <Param name=\"Spatial_Prox_Match\"       value=\"false\" />\\n      <Param name=\"Temporal_Prox_Match\"      value=\"false\" />\\n      <Param name=\"Def_NOT_a_GRB\"            value=\"false\" />\\n      <Param name=\"Test_Notice\"              value=\"true\" />\\n    </Group>\\n    <Group name=\"Obs_Support_Info\" >\\n      <Description>The Sun and Moon values are valid at the time the VOEvent XML message was created.</Description>\\n      <Param name=\"Sun_RA\"        value=\"265.74\" unit=\"deg\" ucd=\"pos.eq.ra\" />\\n      <Param name=\"Sun_Dec\"       value=\"-23.38\" unit=\"deg\" ucd=\"pos.eq.dec\" />\\n      <Param name=\"Sun_Distance\"  value=\"93.91\" unit=\"deg\" ucd=\"pos.angDistance\" />\\n      <Param name=\"Sun_Hr_Angle\"  value=\"-6.28\" unit=\"hr\" />\\n      <Param name=\"Moon_RA\"       value=\"116.80\" unit=\"deg\" ucd=\"pos.eq.ra\" />\\n      <Param name=\"Moon_Dec\"      value=\"25.87\" unit=\"deg\" ucd=\"pos.eq.dec\" />\\n      <Param name=\"MOON_Distance\" value=\"113.93\" unit=\"deg\" ucd=\"pos.angDistance\" />\\n      <Param name=\"Moon_Illum\"    value=\"94.23\" unit=\"%\" ucd=\"arith.ratio\" />\\n      <Param name=\"Galactic_Long\" value=\"0.00\" unit=\"deg\" ucd=\"pos.galactic.lon\" />\\n      <Param name=\"Galactic_Lat\"  value=\"0.00\" unit=\"deg\" ucd=\"pos.galactic.lat\" />\\n      <Param name=\"Ecliptic_Long\" value=\"0.00\" unit=\"deg\" ucd=\"pos.ecliptic.lon\" />\\n      <Param name=\"Ecliptic_Lat\"  value=\"0.00\" unit=\"deg\" ucd=\"pos.ecliptic.lat\" />\\n    </Group>\\n    <Description>A countrate increase trigger in the Anti-Coincidence Shield of the INTEGRAL-SPI instrument.</Description>\\n  </What>\\n  <WhereWhen>\\n    <ObsDataLocation>\\n      <ObservatoryLocation id=\"GEOLUN\" />\\n      <ObservationLocation>\\n        <AstroCoordSystem id=\"UTC-FK5-GEO\" />\\n        <AstroCoords coord_system_id=\"UTC-FK5-GEO\">\\n          <Time unit=\"s\">\\n            <TimeInstant>\\n              <ISOTime>2024-05-23T12:03:23.68</ISOTime>\\n            </TimeInstant>\\n          </Time>\\n          <Position2D unit=\"deg\">\\n            <Name1>RA</Name1>\\n            <Name2>Dec</Name2>\\n            <Value2>\\n              <C1>0.0000</C1>\\n              <C2>0.0000</C2>\\n            </Value2>\\n            <Error2Radius>0.0000</Error2Radius>\\n          </Position2D>\\n        </AstroCoords>\\n      </ObservationLocation>\\n    </ObsDataLocation>\\n  <Description>The RA,Dec coordinates are of the type: unavailable/inappropriate.</Description>\\n  </WhereWhen>\\n  <How>\\n    <Description>INTEGRAL Satellite, SPI-ACS Instrument</Description>\\n    <Reference uri=\"http://gcn.gsfc.nasa.gov/integral.html\" type=\"url\" />\\n  </How>\\n  <Why>\\n    <Inference probability=\"0.5\">\\n      <Concept>process.variation.burst;em.gamma</Concept>\\n    </Inference>\\n  </Why>\\n  <Description>\\n  </Description>\\n</voe:VOEvent>\\n'\n",
      "b'<?xml version = \\'1.0\\' encoding = \\'UTF-8\\'?>\\n<voe:VOEvent\\n      ivorn=\"ivo://nasa.gsfc.gcn/INTEGRAL#SPIACS_000000-0-220\"\\n      role=\"test\" version=\"2.0\"\\n      xmlns:voe=\"http://www.ivoa.net/xml/VOEvent/v2.0\"\\n      xmlns:xsi=\"http://www.w3.org/2001/XMLSchema-instance\"\\n      xsi:schemaLocation=\"http://www.ivoa.net/xml/VOEvent/v2.0  http://www.ivoa.net/xml/VOEvent/VOEvent-v2.0.xsd\" >\\n  <Who>\\n    <AuthorIVORN>ivo://nasa.gsfc.tan/gcn</AuthorIVORN>\\n    <Author>\\n      <shortName>INTEGRAL (via VO-GCN)</shortName>\\n      <contactName>S. Mereghetti</contactName>\\n      <contactPhone>+39 223699323</contactPhone>\\n      <contactEmail>sandro@iasf-milano.inaf.it</contactEmail>\\n    </Author>\\n    <Date>2024-12-17T19:00:04</Date>\\n    <Description>This VOEvent message was created with GCN VOE version: 15.08 17jun22</Description>\\n  </Who>\\n  <What>\\n    <Param name=\"Packet_Type\"   value=\"52\" />\\n    <Param name=\"Pkt_Ser_Num\"   value=\"6109\" />\\n    <Param name=\"TrigID\"        value=\"0\" ucd=\"meta.id\" />\\n    <Param name=\"Burst_TJD\"     value=\"20453\" unit=\"days\" ucd=\"time\" />\\n    <Param name=\"Burst_SOD\"     value=\"43403.68\" unit=\"sec\" ucd=\"time\" />\\n    <Param name=\"Inten_Sigma\"   value=\"11.34\" unit=\"sigma\" ucd=\"stat.snr\" />\\n    <Param name=\"Time_Error\"    value=\"0.5300\" unit=\"sec\" ucd=\"time\" />\\n    <Param name=\"Time_Scale\"    value=\"0.5000\" unit=\"sec\" ucd=\"time\" />\\n    <Param name=\"Coords_Type\"   value=\"0\" unit=\"dn\" />\\n    <Param name=\"Coords_String\" value=\"unavailable/inappropriate\" />\\n    <Param name=\"Det_flags\"     value=\"0xca\" />\\n    <Param name=\"Test_mpos\"     value=\"0x80000000\" />\\n    <Param name=\"Misc_att\"      value=\"0x0\" />\\n    <Group name=\"Test_mpos\" >\\n      <Param name=\"Spatial_Prox_Match\"       value=\"false\" />\\n      <Param name=\"Temporal_Prox_Match\"      value=\"false\" />\\n      <Param name=\"Def_NOT_a_GRB\"            value=\"false\" />\\n      <Param name=\"Test_Notice\"              value=\"true\" />\\n    </Group>\\n    <Group name=\"Obs_Support_Info\" >\\n      <Description>The Sun and Moon values are valid at the time the VOEvent XML message was created.</Description>\\n      <Param name=\"Sun_RA\"        value=\"266.01\" unit=\"deg\" ucd=\"pos.eq.ra\" />\\n      <Param name=\"Sun_Dec\"       value=\"-23.38\" unit=\"deg\" ucd=\"pos.eq.dec\" />\\n      <Param name=\"Sun_Distance\"  value=\"93.66\" unit=\"deg\" ucd=\"pos.angDistance\" />\\n      <Param name=\"Sun_Hr_Angle\"  value=\"-6.27\" unit=\"hr\" />\\n      <Param name=\"Moon_RA\"       value=\"120.43\" unit=\"deg\" ucd=\"pos.eq.ra\" />\\n      <Param name=\"Moon_Dec\"      value=\"25.11\" unit=\"deg\" ucd=\"pos.eq.dec\" />\\n      <Param name=\"MOON_Distance\" value=\"117.29\" unit=\"deg\" ucd=\"pos.angDistance\" />\\n      <Param name=\"Moon_Illum\"    value=\"92.90\" unit=\"%\" ucd=\"arith.ratio\" />\\n      <Param name=\"Galactic_Long\" value=\"0.00\" unit=\"deg\" ucd=\"pos.galactic.lon\" />\\n      <Param name=\"Galactic_Lat\"  value=\"0.00\" unit=\"deg\" ucd=\"pos.galactic.lat\" />\\n      <Param name=\"Ecliptic_Long\" value=\"0.00\" unit=\"deg\" ucd=\"pos.ecliptic.lon\" />\\n      <Param name=\"Ecliptic_Lat\"  value=\"0.00\" unit=\"deg\" ucd=\"pos.ecliptic.lat\" />\\n    </Group>\\n    <Description>A countrate increase trigger in the Anti-Coincidence Shield of the INTEGRAL-SPI instrument.</Description>\\n  </What>\\n  <WhereWhen>\\n    <ObsDataLocation>\\n      <ObservatoryLocation id=\"GEOLUN\" />\\n      <ObservationLocation>\\n        <AstroCoordSystem id=\"UTC-FK5-GEO\" />\\n        <AstroCoords coord_system_id=\"UTC-FK5-GEO\">\\n          <Time unit=\"s\">\\n            <TimeInstant>\\n              <ISOTime>2024-05-23T12:03:23.68</ISOTime>\\n            </TimeInstant>\\n          </Time>\\n          <Position2D unit=\"deg\">\\n            <Name1>RA</Name1>\\n            <Name2>Dec</Name2>\\n            <Value2>\\n              <C1>0.0000</C1>\\n              <C2>0.0000</C2>\\n            </Value2>\\n            <Error2Radius>0.0000</Error2Radius>\\n          </Position2D>\\n        </AstroCoords>\\n      </ObservationLocation>\\n    </ObsDataLocation>\\n  <Description>The RA,Dec coordinates are of the type: unavailable/inappropriate.</Description>\\n  </WhereWhen>\\n  <How>\\n    <Description>INTEGRAL Satellite, SPI-ACS Instrument</Description>\\n    <Reference uri=\"http://gcn.gsfc.nasa.gov/integral.html\" type=\"url\" />\\n  </How>\\n  <Why>\\n    <Inference probability=\"0.5\">\\n      <Concept>process.variation.burst;em.gamma</Concept>\\n    </Inference>\\n  </Why>\\n  <Description>\\n  </Description>\\n</voe:VOEvent>\\n'\n",
      "b'<?xml version = \\'1.0\\' encoding = \\'UTF-8\\'?>\\n<voe:VOEvent\\n      ivorn=\"ivo://nasa.gsfc.gcn/INTEGRAL#SPIACS_000000-0-756\"\\n      role=\"test\" version=\"2.0\"\\n      xmlns:voe=\"http://www.ivoa.net/xml/VOEvent/v2.0\"\\n      xmlns:xsi=\"http://www.w3.org/2001/XMLSchema-instance\"\\n      xsi:schemaLocation=\"http://www.ivoa.net/xml/VOEvent/v2.0  http://www.ivoa.net/xml/VOEvent/VOEvent-v2.0.xsd\" >\\n  <Who>\\n    <AuthorIVORN>ivo://nasa.gsfc.tan/gcn</AuthorIVORN>\\n    <Author>\\n      <shortName>INTEGRAL (via VO-GCN)</shortName>\\n      <contactName>S. Mereghetti</contactName>\\n      <contactPhone>+39 223699323</contactPhone>\\n      <contactEmail>sandro@iasf-milano.inaf.it</contactEmail>\\n    </Author>\\n    <Date>2024-12-18T01:00:03</Date>\\n    <Description>This VOEvent message was created with GCN VOE version: 15.08 17jun22</Description>\\n  </Who>\\n  <What>\\n    <Param name=\"Packet_Type\"   value=\"52\" />\\n    <Param name=\"Pkt_Ser_Num\"   value=\"6469\" />\\n    <Param name=\"TrigID\"        value=\"0\" ucd=\"meta.id\" />\\n    <Param name=\"Burst_TJD\"     value=\"20453\" unit=\"days\" ucd=\"time\" />\\n    <Param name=\"Burst_SOD\"     value=\"43403.68\" unit=\"sec\" ucd=\"time\" />\\n    <Param name=\"Inten_Sigma\"   value=\"11.34\" unit=\"sigma\" ucd=\"stat.snr\" />\\n    <Param name=\"Time_Error\"    value=\"0.5300\" unit=\"sec\" ucd=\"time\" />\\n    <Param name=\"Time_Scale\"    value=\"0.5000\" unit=\"sec\" ucd=\"time\" />\\n    <Param name=\"Coords_Type\"   value=\"0\" unit=\"dn\" />\\n    <Param name=\"Coords_String\" value=\"unavailable/inappropriate\" />\\n    <Param name=\"Det_flags\"     value=\"0xca\" />\\n    <Param name=\"Test_mpos\"     value=\"0x80000000\" />\\n    <Param name=\"Misc_att\"      value=\"0x0\" />\\n    <Group name=\"Test_mpos\" >\\n      <Param name=\"Spatial_Prox_Match\"       value=\"false\" />\\n      <Param name=\"Temporal_Prox_Match\"      value=\"false\" />\\n      <Param name=\"Def_NOT_a_GRB\"            value=\"false\" />\\n      <Param name=\"Test_Notice\"              value=\"true\" />\\n    </Group>\\n    <Group name=\"Obs_Support_Info\" >\\n      <Description>The Sun and Moon values are valid at the time the VOEvent XML message was created.</Description>\\n      <Param name=\"Sun_RA\"        value=\"266.29\" unit=\"deg\" ucd=\"pos.eq.ra\" />\\n      <Param name=\"Sun_Dec\"       value=\"-23.39\" unit=\"deg\" ucd=\"pos.eq.dec\" />\\n      <Param name=\"Sun_Distance\"  value=\"93.40\" unit=\"deg\" ucd=\"pos.angDistance\" />\\n      <Param name=\"Sun_Hr_Angle\"  value=\"-6.25\" unit=\"hr\" />\\n      <Param name=\"Moon_RA\"       value=\"123.98\" unit=\"deg\" ucd=\"pos.eq.ra\" />\\n      <Param name=\"Moon_Dec\"      value=\"24.27\" unit=\"deg\" ucd=\"pos.eq.dec\" />\\n      <Param name=\"MOON_Distance\" value=\"120.63\" unit=\"deg\" ucd=\"pos.angDistance\" />\\n      <Param name=\"Moon_Illum\"    value=\"91.46\" unit=\"%\" ucd=\"arith.ratio\" />\\n      <Param name=\"Galactic_Long\" value=\"0.00\" unit=\"deg\" ucd=\"pos.galactic.lon\" />\\n      <Param name=\"Galactic_Lat\"  value=\"0.00\" unit=\"deg\" ucd=\"pos.galactic.lat\" />\\n      <Param name=\"Ecliptic_Long\" value=\"0.00\" unit=\"deg\" ucd=\"pos.ecliptic.lon\" />\\n      <Param name=\"Ecliptic_Lat\"  value=\"0.00\" unit=\"deg\" ucd=\"pos.ecliptic.lat\" />\\n    </Group>\\n    <Description>A countrate increase trigger in the Anti-Coincidence Shield of the INTEGRAL-SPI instrument.</Description>\\n  </What>\\n  <WhereWhen>\\n    <ObsDataLocation>\\n      <ObservatoryLocation id=\"GEOLUN\" />\\n      <ObservationLocation>\\n        <AstroCoordSystem id=\"UTC-FK5-GEO\" />\\n        <AstroCoords coord_system_id=\"UTC-FK5-GEO\">\\n          <Time unit=\"s\">\\n            <TimeInstant>\\n              <ISOTime>2024-05-23T12:03:23.68</ISOTime>\\n            </TimeInstant>\\n          </Time>\\n          <Position2D unit=\"deg\">\\n            <Name1>RA</Name1>\\n            <Name2>Dec</Name2>\\n            <Value2>\\n              <C1>0.0000</C1>\\n              <C2>0.0000</C2>\\n            </Value2>\\n            <Error2Radius>0.0000</Error2Radius>\\n          </Position2D>\\n        </AstroCoords>\\n      </ObservationLocation>\\n    </ObsDataLocation>\\n  <Description>The RA,Dec coordinates are of the type: unavailable/inappropriate.</Description>\\n  </WhereWhen>\\n  <How>\\n    <Description>INTEGRAL Satellite, SPI-ACS Instrument</Description>\\n    <Reference uri=\"http://gcn.gsfc.nasa.gov/integral.html\" type=\"url\" />\\n  </How>\\n  <Why>\\n    <Inference probability=\"0.5\">\\n      <Concept>process.variation.burst;em.gamma</Concept>\\n    </Inference>\\n  </Why>\\n  <Description>\\n  </Description>\\n</voe:VOEvent>\\n'\n",
      "b'<?xml version = \\'1.0\\' encoding = \\'UTF-8\\'?>\\n<voe:VOEvent\\n      ivorn=\"ivo://nasa.gsfc.gcn/INTEGRAL#SPIACS_000000-0-208\"\\n      role=\"test\" version=\"2.0\"\\n      xmlns:voe=\"http://www.ivoa.net/xml/VOEvent/v2.0\"\\n      xmlns:xsi=\"http://www.w3.org/2001/XMLSchema-instance\"\\n      xsi:schemaLocation=\"http://www.ivoa.net/xml/VOEvent/v2.0  http://www.ivoa.net/xml/VOEvent/VOEvent-v2.0.xsd\" >\\n  <Who>\\n    <AuthorIVORN>ivo://nasa.gsfc.tan/gcn</AuthorIVORN>\\n    <Author>\\n      <shortName>INTEGRAL (via VO-GCN)</shortName>\\n      <contactName>S. Mereghetti</contactName>\\n      <contactPhone>+39 223699323</contactPhone>\\n      <contactEmail>sandro@iasf-milano.inaf.it</contactEmail>\\n    </Author>\\n    <Date>2024-12-18T07:00:02</Date>\\n    <Description>This VOEvent message was created with GCN VOE version: 15.08 17jun22</Description>\\n  </Who>\\n  <What>\\n    <Param name=\"Packet_Type\"   value=\"52\" />\\n    <Param name=\"Pkt_Ser_Num\"   value=\"6829\" />\\n    <Param name=\"TrigID\"        value=\"0\" ucd=\"meta.id\" />\\n    <Param name=\"Burst_TJD\"     value=\"20453\" unit=\"days\" ucd=\"time\" />\\n    <Param name=\"Burst_SOD\"     value=\"43403.68\" unit=\"sec\" ucd=\"time\" />\\n    <Param name=\"Inten_Sigma\"   value=\"11.34\" unit=\"sigma\" ucd=\"stat.snr\" />\\n    <Param name=\"Time_Error\"    value=\"0.5300\" unit=\"sec\" ucd=\"time\" />\\n    <Param name=\"Time_Scale\"    value=\"0.5000\" unit=\"sec\" ucd=\"time\" />\\n    <Param name=\"Coords_Type\"   value=\"0\" unit=\"dn\" />\\n    <Param name=\"Coords_String\" value=\"unavailable/inappropriate\" />\\n    <Param name=\"Det_flags\"     value=\"0xca\" />\\n    <Param name=\"Test_mpos\"     value=\"0x80000000\" />\\n    <Param name=\"Misc_att\"      value=\"0x0\" />\\n    <Group name=\"Test_mpos\" >\\n      <Param name=\"Spatial_Prox_Match\"       value=\"false\" />\\n      <Param name=\"Temporal_Prox_Match\"      value=\"false\" />\\n      <Param name=\"Def_NOT_a_GRB\"            value=\"false\" />\\n      <Param name=\"Test_Notice\"              value=\"true\" />\\n    </Group>\\n    <Group name=\"Obs_Support_Info\" >\\n      <Description>The Sun and Moon values are valid at the time the VOEvent XML message was created.</Description>\\n      <Param name=\"Sun_RA\"        value=\"266.57\" unit=\"deg\" ucd=\"pos.eq.ra\" />\\n      <Param name=\"Sun_Dec\"       value=\"-23.40\" unit=\"deg\" ucd=\"pos.eq.dec\" />\\n      <Param name=\"Sun_Distance\"  value=\"93.15\" unit=\"deg\" ucd=\"pos.angDistance\" />\\n      <Param name=\"Sun_Hr_Angle\"  value=\"-6.23\" unit=\"hr\" />\\n      <Param name=\"Moon_RA\"       value=\"127.46\" unit=\"deg\" ucd=\"pos.eq.ra\" />\\n      <Param name=\"Moon_Dec\"      value=\"23.36\" unit=\"deg\" ucd=\"pos.eq.dec\" />\\n      <Param name=\"MOON_Distance\" value=\"123.95\" unit=\"deg\" ucd=\"pos.angDistance\" />\\n      <Param name=\"Moon_Illum\"    value=\"89.92\" unit=\"%\" ucd=\"arith.ratio\" />\\n      <Param name=\"Galactic_Long\" value=\"0.00\" unit=\"deg\" ucd=\"pos.galactic.lon\" />\\n      <Param name=\"Galactic_Lat\"  value=\"0.00\" unit=\"deg\" ucd=\"pos.galactic.lat\" />\\n      <Param name=\"Ecliptic_Long\" value=\"0.00\" unit=\"deg\" ucd=\"pos.ecliptic.lon\" />\\n      <Param name=\"Ecliptic_Lat\"  value=\"0.00\" unit=\"deg\" ucd=\"pos.ecliptic.lat\" />\\n    </Group>\\n    <Description>A countrate increase trigger in the Anti-Coincidence Shield of the INTEGRAL-SPI instrument.</Description>\\n  </What>\\n  <WhereWhen>\\n    <ObsDataLocation>\\n      <ObservatoryLocation id=\"GEOLUN\" />\\n      <ObservationLocation>\\n        <AstroCoordSystem id=\"UTC-FK5-GEO\" />\\n        <AstroCoords coord_system_id=\"UTC-FK5-GEO\">\\n          <Time unit=\"s\">\\n            <TimeInstant>\\n              <ISOTime>2024-05-23T12:03:23.68</ISOTime>\\n            </TimeInstant>\\n          </Time>\\n          <Position2D unit=\"deg\">\\n            <Name1>RA</Name1>\\n            <Name2>Dec</Name2>\\n            <Value2>\\n              <C1>0.0000</C1>\\n              <C2>0.0000</C2>\\n            </Value2>\\n            <Error2Radius>0.0000</Error2Radius>\\n          </Position2D>\\n        </AstroCoords>\\n      </ObservationLocation>\\n    </ObsDataLocation>\\n  <Description>The RA,Dec coordinates are of the type: unavailable/inappropriate.</Description>\\n  </WhereWhen>\\n  <How>\\n    <Description>INTEGRAL Satellite, SPI-ACS Instrument</Description>\\n    <Reference uri=\"http://gcn.gsfc.nasa.gov/integral.html\" type=\"url\" />\\n  </How>\\n  <Why>\\n    <Inference probability=\"0.5\">\\n      <Concept>process.variation.burst;em.gamma</Concept>\\n    </Inference>\\n  </Why>\\n  <Description>\\n  </Description>\\n</voe:VOEvent>\\n'\n"
     ]
    }
   ],
   "source": [
    "\n",
    "# get messages occurring 3 days ago\n",
    "timestamp1 = int((datetime.datetime.now() - datetime.timedelta(days=3)).timestamp() * 1000)\n",
    "timestamp2 = timestamp1 + 86400000 # +1 day\n",
    "\n",
    "\n",
    "start = consumer.offsets_for_times(\n",
    "    [TopicPartition(topic, 0, timestamp1)])\n",
    "end = consumer.offsets_for_times(\n",
    "    [TopicPartition(topic, 0, timestamp2)])\n",
    "\n",
    "consumer.assign(start)\n",
    "for message in consumer.consume(end[0].offset - start[0].offset, timeout=1):\n",
    "    print(message.value())"
   ]
  },
  {
   "cell_type": "code",
   "execution_count": 13,
   "id": "d2bec1bc",
   "metadata": {},
   "outputs": [],
   "source": [
    "def process_message(message):\n",
    "    # Parse the message\n",
    "    content = json.loads(message.value())\n",
    "    \n",
    "    # Check if the message contains the necessary information\n",
    "    if 'ra' in content and 'dec' in content:\n",
    "        ra = content['ra']\n",
    "        dec = content['dec']\n",
    "        print(f\"Recent GRB RA: {ra}, Dec: {dec}\")\n",
    "    else:\n",
    "        print(\"RA and Dec not found in the message\")\n"
   ]
  },
  {
   "cell_type": "code",
   "execution_count": 16,
   "id": "74e9bae3",
   "metadata": {},
   "outputs": [],
   "source": [
    "import os"
   ]
  },
  {
   "cell_type": "code",
   "execution_count": 14,
   "id": "3ff0459b",
   "metadata": {},
   "outputs": [
    {
     "name": "stdout",
     "output_type": "stream",
     "text": [
      "<cimpl.Message object at 0x11f8c1740>\n"
     ]
    },
    {
     "ename": "JSONDecodeError",
     "evalue": "Expecting value: line 1 column 1 (char 0)",
     "output_type": "error",
     "traceback": [
      "\u001b[0;31m---------------------------------------------------------------------------\u001b[0m",
      "\u001b[0;31mJSONDecodeError\u001b[0m                           Traceback (most recent call last)",
      "Cell \u001b[0;32mIn [14], line 7\u001b[0m\n\u001b[1;32m      5\u001b[0m             \u001b[38;5;28;01mcontinue\u001b[39;00m\n\u001b[1;32m      6\u001b[0m         \u001b[38;5;28mprint\u001b[39m(message)\n\u001b[0;32m----> 7\u001b[0m         \u001b[43mprocess_message\u001b[49m\u001b[43m(\u001b[49m\u001b[43mmessage\u001b[49m\u001b[43m)\u001b[49m\n\u001b[1;32m      8\u001b[0m \u001b[38;5;28;01mexcept\u001b[39;00m \u001b[38;5;167;01mKeyboardInterrupt\u001b[39;00m:\n\u001b[1;32m      9\u001b[0m     \u001b[38;5;28;01mpass\u001b[39;00m\n",
      "Cell \u001b[0;32mIn [13], line 3\u001b[0m, in \u001b[0;36mprocess_message\u001b[0;34m(message)\u001b[0m\n\u001b[1;32m      1\u001b[0m \u001b[38;5;28;01mdef\u001b[39;00m \u001b[38;5;21mprocess_message\u001b[39m(message):\n\u001b[1;32m      2\u001b[0m     \u001b[38;5;66;03m# Parse the message\u001b[39;00m\n\u001b[0;32m----> 3\u001b[0m     content \u001b[38;5;241m=\u001b[39m \u001b[43mjson\u001b[49m\u001b[38;5;241;43m.\u001b[39;49m\u001b[43mloads\u001b[49m\u001b[43m(\u001b[49m\u001b[43mmessage\u001b[49m\u001b[38;5;241;43m.\u001b[39;49m\u001b[43mvalue\u001b[49m\u001b[43m(\u001b[49m\u001b[43m)\u001b[49m\u001b[43m)\u001b[49m\n\u001b[1;32m      5\u001b[0m     \u001b[38;5;66;03m# Check if the message contains the necessary information\u001b[39;00m\n\u001b[1;32m      6\u001b[0m     \u001b[38;5;28;01mif\u001b[39;00m \u001b[38;5;124m'\u001b[39m\u001b[38;5;124mra\u001b[39m\u001b[38;5;124m'\u001b[39m \u001b[38;5;129;01min\u001b[39;00m content \u001b[38;5;129;01mand\u001b[39;00m \u001b[38;5;124m'\u001b[39m\u001b[38;5;124mdec\u001b[39m\u001b[38;5;124m'\u001b[39m \u001b[38;5;129;01min\u001b[39;00m content:\n",
      "File \u001b[0;32m~/Software/miniconda3/envs/general/lib/python3.10/json/__init__.py:346\u001b[0m, in \u001b[0;36mloads\u001b[0;34m(s, cls, object_hook, parse_float, parse_int, parse_constant, object_pairs_hook, **kw)\u001b[0m\n\u001b[1;32m    341\u001b[0m     s \u001b[38;5;241m=\u001b[39m s\u001b[38;5;241m.\u001b[39mdecode(detect_encoding(s), \u001b[38;5;124m'\u001b[39m\u001b[38;5;124msurrogatepass\u001b[39m\u001b[38;5;124m'\u001b[39m)\n\u001b[1;32m    343\u001b[0m \u001b[38;5;28;01mif\u001b[39;00m (\u001b[38;5;28mcls\u001b[39m \u001b[38;5;129;01mis\u001b[39;00m \u001b[38;5;28;01mNone\u001b[39;00m \u001b[38;5;129;01mand\u001b[39;00m object_hook \u001b[38;5;129;01mis\u001b[39;00m \u001b[38;5;28;01mNone\u001b[39;00m \u001b[38;5;129;01mand\u001b[39;00m\n\u001b[1;32m    344\u001b[0m         parse_int \u001b[38;5;129;01mis\u001b[39;00m \u001b[38;5;28;01mNone\u001b[39;00m \u001b[38;5;129;01mand\u001b[39;00m parse_float \u001b[38;5;129;01mis\u001b[39;00m \u001b[38;5;28;01mNone\u001b[39;00m \u001b[38;5;129;01mand\u001b[39;00m\n\u001b[1;32m    345\u001b[0m         parse_constant \u001b[38;5;129;01mis\u001b[39;00m \u001b[38;5;28;01mNone\u001b[39;00m \u001b[38;5;129;01mand\u001b[39;00m object_pairs_hook \u001b[38;5;129;01mis\u001b[39;00m \u001b[38;5;28;01mNone\u001b[39;00m \u001b[38;5;129;01mand\u001b[39;00m \u001b[38;5;129;01mnot\u001b[39;00m kw):\n\u001b[0;32m--> 346\u001b[0m     \u001b[38;5;28;01mreturn\u001b[39;00m \u001b[43m_default_decoder\u001b[49m\u001b[38;5;241;43m.\u001b[39;49m\u001b[43mdecode\u001b[49m\u001b[43m(\u001b[49m\u001b[43ms\u001b[49m\u001b[43m)\u001b[49m\n\u001b[1;32m    347\u001b[0m \u001b[38;5;28;01mif\u001b[39;00m \u001b[38;5;28mcls\u001b[39m \u001b[38;5;129;01mis\u001b[39;00m \u001b[38;5;28;01mNone\u001b[39;00m:\n\u001b[1;32m    348\u001b[0m     \u001b[38;5;28mcls\u001b[39m \u001b[38;5;241m=\u001b[39m JSONDecoder\n",
      "File \u001b[0;32m~/Software/miniconda3/envs/general/lib/python3.10/json/decoder.py:337\u001b[0m, in \u001b[0;36mJSONDecoder.decode\u001b[0;34m(self, s, _w)\u001b[0m\n\u001b[1;32m    332\u001b[0m \u001b[38;5;28;01mdef\u001b[39;00m \u001b[38;5;21mdecode\u001b[39m(\u001b[38;5;28mself\u001b[39m, s, _w\u001b[38;5;241m=\u001b[39mWHITESPACE\u001b[38;5;241m.\u001b[39mmatch):\n\u001b[1;32m    333\u001b[0m     \u001b[38;5;124;03m\"\"\"Return the Python representation of ``s`` (a ``str`` instance\u001b[39;00m\n\u001b[1;32m    334\u001b[0m \u001b[38;5;124;03m    containing a JSON document).\u001b[39;00m\n\u001b[1;32m    335\u001b[0m \n\u001b[1;32m    336\u001b[0m \u001b[38;5;124;03m    \"\"\"\u001b[39;00m\n\u001b[0;32m--> 337\u001b[0m     obj, end \u001b[38;5;241m=\u001b[39m \u001b[38;5;28;43mself\u001b[39;49m\u001b[38;5;241;43m.\u001b[39;49m\u001b[43mraw_decode\u001b[49m\u001b[43m(\u001b[49m\u001b[43ms\u001b[49m\u001b[43m,\u001b[49m\u001b[43m \u001b[49m\u001b[43midx\u001b[49m\u001b[38;5;241;43m=\u001b[39;49m\u001b[43m_w\u001b[49m\u001b[43m(\u001b[49m\u001b[43ms\u001b[49m\u001b[43m,\u001b[49m\u001b[43m \u001b[49m\u001b[38;5;241;43m0\u001b[39;49m\u001b[43m)\u001b[49m\u001b[38;5;241;43m.\u001b[39;49m\u001b[43mend\u001b[49m\u001b[43m(\u001b[49m\u001b[43m)\u001b[49m\u001b[43m)\u001b[49m\n\u001b[1;32m    338\u001b[0m     end \u001b[38;5;241m=\u001b[39m _w(s, end)\u001b[38;5;241m.\u001b[39mend()\n\u001b[1;32m    339\u001b[0m     \u001b[38;5;28;01mif\u001b[39;00m end \u001b[38;5;241m!=\u001b[39m \u001b[38;5;28mlen\u001b[39m(s):\n",
      "File \u001b[0;32m~/Software/miniconda3/envs/general/lib/python3.10/json/decoder.py:355\u001b[0m, in \u001b[0;36mJSONDecoder.raw_decode\u001b[0;34m(self, s, idx)\u001b[0m\n\u001b[1;32m    353\u001b[0m     obj, end \u001b[38;5;241m=\u001b[39m \u001b[38;5;28mself\u001b[39m\u001b[38;5;241m.\u001b[39mscan_once(s, idx)\n\u001b[1;32m    354\u001b[0m \u001b[38;5;28;01mexcept\u001b[39;00m \u001b[38;5;167;01mStopIteration\u001b[39;00m \u001b[38;5;28;01mas\u001b[39;00m err:\n\u001b[0;32m--> 355\u001b[0m     \u001b[38;5;28;01mraise\u001b[39;00m JSONDecodeError(\u001b[38;5;124m\"\u001b[39m\u001b[38;5;124mExpecting value\u001b[39m\u001b[38;5;124m\"\u001b[39m, s, err\u001b[38;5;241m.\u001b[39mvalue) \u001b[38;5;28;01mfrom\u001b[39;00m \u001b[38;5;28mNone\u001b[39m\n\u001b[1;32m    356\u001b[0m \u001b[38;5;28;01mreturn\u001b[39;00m obj, end\n",
      "\u001b[0;31mJSONDecodeError\u001b[0m: Expecting value: line 1 column 1 (char 0)"
     ]
    }
   ],
   "source": [
    "try:\n",
    "    while True:\n",
    "        message = consumer.poll(timeout=1.0)\n",
    "        if message is None:\n",
    "            continue\n",
    "        print(message)\n",
    "        process_message(message)\n",
    "except KeyboardInterrupt:\n",
    "    pass\n",
    "finally:\n",
    "    consumer.close()"
   ]
  },
  {
   "cell_type": "code",
   "execution_count": null,
   "id": "411b95e5",
   "metadata": {},
   "outputs": [],
   "source": []
  }
 ],
 "metadata": {
  "kernelspec": {
   "display_name": "general",
   "language": "python",
   "name": "python3"
  },
  "language_info": {
   "codemirror_mode": {
    "name": "ipython",
    "version": 3
   },
   "file_extension": ".py",
   "mimetype": "text/x-python",
   "name": "python",
   "nbconvert_exporter": "python",
   "pygments_lexer": "ipython3",
   "version": "3.10.6"
  }
 },
 "nbformat": 4,
 "nbformat_minor": 5
}
